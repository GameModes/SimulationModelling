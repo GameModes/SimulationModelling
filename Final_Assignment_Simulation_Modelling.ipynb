{
 "cells": [
  {
   "cell_type": "code",
   "execution_count": 27,
   "metadata": {
    "scrolled": true
   },
   "outputs": [
    {
     "data": {
      "application/vnd.jupyter.widget-view+json": {
       "model_id": "54c9e9e7a79641a69710bf82ecd35560",
       "version_major": 2,
       "version_minor": 0
      },
      "text/plain": [
       "interactive(children=(IntSlider(value=360, description='stapgrootte', max=1080, min=-360), Output()), _dom_cla…"
      ]
     },
     "metadata": {},
     "output_type": "display_data"
    }
   ],
   "source": [
    "import math\n",
    "import numpy as np\n",
    "import matplotlib.pyplot as plt\n",
    "from matplotlib import figure\n",
    "from ipywidgets import interact\n",
    "\n",
    "# fysische informatie:\n",
    "TANK_INHOUD1 = 100          # liter\n",
    "INSTROOM1 = 6 / 60           # liter per s\n",
    "INSTROOM2_1 = 1/ 60\n",
    "CONCENTRATIE_INSTROOM = 0.2 # kg / liter\n",
    "UITSTROOM1 = 4 / 60         # liter per s\n",
    "UITSTROOM1_2 = 3/60\n",
    "instroom_salt_tank1 = CONCENTRATIE_INSTROOM * INSTROOM1\n",
    "\n",
    "TANK_INHOUD2 = 100          # liter\n",
    "INSTROOM1_2 = UITSTROOM1_2  # liter per s\n",
    "UITSTROOM2_1 = INSTROOM2_1 \n",
    "UITSTROOM2 = 2/60\n",
    "\n",
    "def simulatiesettings():\n",
    "    DUUR = 10*3600 # 3600 seconden = 1 uur\n",
    "    AANTAL_STAPPEN = 100\n",
    "    stapgrootte = DUUR / AANTAL_STAPPEN # in seconden\n",
    "    return stapgrootte, AANTAL_STAPPEN\n",
    "stapgrootte, AANTAL_STAPPEN = simulatiesettings()\n",
    "\n",
    "def array_maker(stapgrootte):\n",
    "    tijd = stapgrootte * np.arange(AANTAL_STAPPEN + 1)\n",
    "    zout = np.zeros(AANTAL_STAPPEN + 1)\n",
    "    return zout, tijd\n",
    "    \n",
    "def simulatieloop(stapgrootte):\n",
    "    zout, tijd = array_maker(stapgrootte)\n",
    "    zout_1 = zout.copy()\n",
    "    zout_2 = zout.copy()\n",
    "    zout_2[0] = 20\n",
    "    for stap in range(1, AANTAL_STAPPEN + 1):    \n",
    "        concentratie_t_min1 = zout_1[stap - 1] / TANK_INHOUD1 # kg / liter\n",
    "        concentratie_t_min2 = zout_2[stap - 1] / TANK_INHOUD2 # kg / liter\n",
    "                      # vorige stap     +  stapgrootte * \n",
    "        zout_1[stap] = zout_1[stap - 1] + stapgrootte * ((instroom_salt_tank1 + (concentratie_t_min2 * INSTROOM2_1)) - ((concentratie_t_min2 * UITSTROOM1_2)+(concentratie_t_min1 * UITSTROOM1)))\n",
    "        zout_2[stap] = zout_2[stap - 1] + stapgrootte * ((concentratie_t_min1 * INSTROOM1_2) - ((concentratie_t_min2 * UITSTROOM2_1)+ (concentratie_t_min1 * UITSTROOM2)))\n",
    "    return tijd, zout_1, zout_2\n",
    "\n",
    "def simulatieloop2(stapgrootte):\n",
    "    zout, tijd = array_maker(stapgrootte)\n",
    "    buiten1 = zout.copy()\n",
    "    zout_1 = zout.copy()\n",
    "    zout_2 = zout.copy()\n",
    "    zout_2[0] = 20\n",
    "    buiten2 = zout.copy()\n",
    "    for stap in range(1, AANTAL_STAPPEN + 1):    \n",
    "        concentratie_t_min1 = zout_1[stap - 1] / TANK_INHOUD1 # kg / liter\n",
    "        concentratie_t_min2 = zout_2[stap - 1] / TANK_INHOUD2 # kg / liter\n",
    "        zout_1[stap] = zout_1[stap - 1] + h * -1 * transmission_coeff * zout_1[stap - 1] * zout_2[stap - 1]\n",
    "        zout_2[stap] = zout_2[stap - 1] + h * transmission_coeff * zout_1[stap - 1] * zout2[stap - 1]\n",
    "    return tijd, zout_1, zout_2\n",
    "\n",
    "def simulatieloop3(stapgrootte):\n",
    "    zout, tijd = array_maker(stapgrootte)\n",
    "    zout_1 = zout.copy()\n",
    "    zout_2 = zout.copy()\n",
    "    zout_2[0] = 20\n",
    "    for stap in range(1, AANTAL_STAPPEN + 1):    \n",
    "        concentratie_t_min1 = zout_1[stap - 1] / TANK_INHOUD1 # kg / liter\n",
    "        concentratie_t_min2 = zout_2[stap - 1] / TANK_INHOUD2 # kg / liter\n",
    "                      # vorige stap     +  stapgrootte * \n",
    "\n",
    "        zout_1[stap] = zout_1[stap - 1] + stapgrootte * ((instroom_salt_tank1 + (concentratie_t_min2 * INSTROOM2_1)) - ((concentratie_t_min2 * UITSTROOM1_2) + (concentratie_t_min1 * UITSTROOM1)))\n",
    "        zout_2[stap] = zout_2[stap - 1] + stapgrootte * ((concentratie_t_min1 * INSTROOM1_2) - ((concentratie_t_min2 * UITSTROOM2_1) + (concentratie_t_min1 * UITSTROOM2)))\n",
    "    return tijd, zout_1, zout_2\n",
    "\n",
    "# plot\n",
    "@interact\n",
    "def plot(stapgrootte=360):\n",
    "    tijd, zout_1, zout_2 = simulatieloop3(stapgrootte)\n",
    "    fig, ax = plt.subplots()\n",
    "    ax.plot(tijd, (zout_1-1)/100, color=\"red\", label=\"zout in tank 1\")\n",
    "    ax.plot(tijd, (zout_2-1)/100, color=\"blue\",  label=\"zout in tank 2\")\n",
    "    ax.set_title('zoutconcentratie in de tank')\n",
    "    ax.set_xlabel('tijd (seconden)')\n",
    "    ax.set_ylabel('zout concentratie (kg / liter)')\n",
    "    plt.legend(loc=\"best\")\n",
    "    return plt.figure()"
   ]
  },
  {
   "cell_type": "code",
   "execution_count": null,
   "metadata": {},
   "outputs": [],
   "source": []
  }
 ],
 "metadata": {
  "kernelspec": {
   "display_name": "Python 3",
   "language": "python",
   "name": "python3"
  },
  "language_info": {
   "codemirror_mode": {
    "name": "ipython",
    "version": 3
   },
   "file_extension": ".py",
   "mimetype": "text/x-python",
   "name": "python",
   "nbconvert_exporter": "python",
   "pygments_lexer": "ipython3",
   "version": "3.7.4"
  }
 },
 "nbformat": 4,
 "nbformat_minor": 4
}
