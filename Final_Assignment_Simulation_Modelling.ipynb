{
 "cells": [
  {
   "cell_type": "code",
   "execution_count": 39,
   "metadata": {
    "scrolled": true
   },
   "outputs": [
    {
     "data": {
      "application/vnd.jupyter.widget-view+json": {
       "model_id": "a90ef368f2764d5ba42eed50726c29b6",
       "version_major": 2,
       "version_minor": 0
      },
      "text/plain": [
       "interactive(children=(IntSlider(value=360, description='stapgrootte', max=1080, min=-360), Output()), _dom_cla…"
      ]
     },
     "metadata": {},
     "output_type": "display_data"
    }
   ],
   "source": [
    "import math\n",
    "import numpy as np\n",
    "import matplotlib.pyplot as plt\n",
    "from matplotlib import figure\n",
    "from ipywidgets import interact\n",
    "\n",
    "# fysische informatie:\n",
    "TANK_INHOUD1 = 100          # liter\n",
    "INSTROOM1 = 6 / 60           # liter per s\n",
    "INSTROOM2_1 = 1/ 60\n",
    "CONCENTRATIE_INSTROOM = 0.2 # kg / liter\n",
    "UITSTROOM1 = 4 / 60         # liter per s\n",
    "UITSTROOM1_2 = 3/60\n",
    "instroom_salt_tank1 = CONCENTRATIE_INSTROOM * INSTROOM1\n",
    "\n",
    "TANK_INHOUD2 = 100          # liter\n",
    "INSTROOM1_2 = UITSTROOM1_2  # liter per s\n",
    "UITSTROOM2_1 = INSTROOM2_1 \n",
    "UITSTROOM2 = 2/60\n",
    "\n",
    "def simulatiesettings():\n",
    "    '''maakt een aantal globale variabelen aan voor de simulatie zoals stapgrootte en DUUR\n",
    "    '''\n",
    "    DUUR = 10*3600 # 3600 seconden = 1 uur\n",
    "    AANTAL_STAPPEN = 100\n",
    "    stapgrootte = DUUR / AANTAL_STAPPEN # in seconden\n",
    "    return stapgrootte, AANTAL_STAPPEN\n",
    "\n",
    "stapgrootte, AANTAL_STAPPEN = simulatiesettings()\n",
    "\n",
    "def array_maker(stapgrootte):\n",
    "    ''' array_maker maakt met behulp van stapgrootte een tijd array en een lege zout array\n",
    "    '''\n",
    "    tijd = stapgrootte * np.arange(AANTAL_STAPPEN + 1)\n",
    "    zout = np.zeros(AANTAL_STAPPEN + 1)\n",
    "    return zout, tijd\n",
    "    \n",
    "def simulatieloop(stapgrootte):\n",
    "    '''simulatieloop maakt met behulp van stapgrootte een array van tijd \n",
    "       en de verandere zoutconcentratie van de tanks in een array\n",
    "    '''\n",
    "    zout, tijd = array_maker(stapgrootte)\n",
    "    zout_1 = zout.copy() #copy van dezelfde groote van de zout array\n",
    "    zout_2 = zout.copy() #copy van dezelfde groote van de zout array\n",
    "    zout_2[0] = 20 #tank 2 begint bij 20kg\n",
    "    for stap in range(1, AANTAL_STAPPEN + 1):    \n",
    "        concentratie_t_min1_1 = zout_1[stap - 1] / TANK_INHOUD1 # zoutconcentratie van tank 1\n",
    "        concentratie_t_min1_2 = zout_2[stap - 1] / TANK_INHOUD2 # zoutconcentratie van tank 2\n",
    "                      # vorige stap     +  stapgrootte * postieve stromingen                                         - negatieve stromingen\n",
    "        zout_1[stap] = zout_1[stap - 1] + stapgrootte * ((instroom_salt_tank1 + (concentratie_t_min1_2 * INSTROOM2_1)) - ((concentratie_t_min1_1 * UITSTROOM1_2)+(concentratie_t_min1_1 * UITSTROOM1)))\n",
    "        zout_2[stap] = zout_2[stap - 1] + stapgrootte * ((concentratie_t_min1_1 * INSTROOM1_2) - ((concentratie_t_min1_2 * UITSTROOM2_1)+ (concentratie_t_min1_2 * UITSTROOM2)))\n",
    "    return tijd, zout_1, zout_2\n",
    "\n",
    "# plot\n",
    "@interact\n",
    "def plot(stapgrootte=360):#interactieve variabele is stapgrootte met standaard \n",
    "    '''plot aka de main functie waarin de functies worden aangeroepen en geplot met een interactie van ipywidgets\n",
    "    '''\n",
    "    tijd, zout_1, zout_2 = simulatieloop(stapgrootte)\n",
    "    fig, ax = plt.subplots()\n",
    "    ax.plot(tijd, (zout_1)/100, color=\"red\", label=\"zout in tank 1\")\n",
    "    ax.plot(tijd, (zout_2)/100, color=\"blue\",  label=\"zout in tank 2\")\n",
    "    ax.set_title('zoutconcentratie in de tank')\n",
    "    ax.set_xlabel('tijd (seconden)')\n",
    "    ax.set_ylabel('zout concentratie (kg / liter)')\n",
    "    plt.legend(loc=\"best\")\n",
    "    return plt.figure()"
   ]
  },
  {
   "cell_type": "code",
   "execution_count": null,
   "metadata": {},
   "outputs": [],
   "source": []
  }
 ],
 "metadata": {
  "kernelspec": {
   "display_name": "Python 3",
   "language": "python",
   "name": "python3"
  },
  "language_info": {
   "codemirror_mode": {
    "name": "ipython",
    "version": 3
   },
   "file_extension": ".py",
   "mimetype": "text/x-python",
   "name": "python",
   "nbconvert_exporter": "python",
   "pygments_lexer": "ipython3",
   "version": "3.7.4"
  }
 },
 "nbformat": 4,
 "nbformat_minor": 4
}
